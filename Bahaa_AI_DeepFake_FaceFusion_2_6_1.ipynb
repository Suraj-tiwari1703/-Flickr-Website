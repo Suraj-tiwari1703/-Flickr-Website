{
  "cells": [
    {
      "cell_type": "markdown",
      "metadata": {
        "id": "view-in-github",
        "colab_type": "text"
      },
      "source": [
        "<a href=\"https://colab.research.google.com/github/Suraj-tiwari1703/-Flickr-Website/blob/main/Bahaa_AI_DeepFake_FaceFusion_2_6_1.ipynb\" target=\"_parent\"><img src=\"https://colab.research.google.com/assets/colab-badge.svg\" alt=\"Open In Colab\"/></a>"
      ]
    },
    {
      "cell_type": "markdown",
      "source": [
        "<p>&nbsp;👇 Subscribe To My Channel For More AI Updates And Tutorials 👇</p><p><a href=\"https://www.youtube.com/@BahaaAI\" target=\"_blank\">@BahaaAI</a></p><div class=\"separator\" style=\"clear: both; text-align: center;\"><a href=\"https://blogger.googleusercontent.com/img/b/R29vZ2xl/AVvXsEib466daRFdGSKLhVpThmDsCccsGzdFE7-kWKcdN9I7tkgTZTq6uLIdJkDm-HQXSE3EXGW35cQj4r7__KOAcI9idy7Y-Cltg6kRmTQtYoaRhxPkj4r3BFP3llMx42admhdbnnKeU5-uW4y7-3D35Qhfshhtcb8XQNtZx8m_dWwzo3R0THNbZAxaJj9aUf4/s500/profile.jpg\" style=\"margin-left: 1em; margin-right: 1em;\"><img border=\"0\" data-original-height=\"500\" data-original-width=\"500\" height=\"200\" src=\"https://blogger.googleusercontent.com/img/b/R29vZ2xl/AVvXsEib466daRFdGSKLhVpThmDsCccsGzdFE7-kWKcdN9I7tkgTZTq6uLIdJkDm-HQXSE3EXGW35cQj4r7__KOAcI9idy7Y-Cltg6kRmTQtYoaRhxPkj4r3BFP3llMx42admhdbnnKeU5-uW4y7-3D35Qhfshhtcb8XQNtZx8m_dWwzo3R0THNbZAxaJj9aUf4/w200-h200/profile.jpg\" width=\"200\" /></a></div>"
      ],
      "metadata": {
        "id": "-sE1ly7jcn1l"
      }
    },
    {
      "cell_type": "markdown",
      "source": [
        "---\n",
        "\n",
        "**Last Update : 1 July 2024**\n",
        "\n",
        "---"
      ],
      "metadata": {
        "id": "CzF2tF238ahA"
      }
    },
    {
      "cell_type": "code",
      "execution_count": 1,
      "metadata": {
        "id": "ZlrnUA3i3gMB",
        "outputId": "1fb245e5-ba1d-4a2f-d4f3-1c9c0a0a16dc",
        "colab": {
          "base_uri": "https://localhost:8080/"
        }
      },
      "outputs": [
        {
          "output_type": "stream",
          "name": "stdout",
          "text": [
            "Installed!\n"
          ]
        }
      ],
      "source": [
        "#@markdown # Step 1 (6 Minutes)\n",
        "#@markdown # Install FaceFusion (Latest Version : 2.6.1)\n",
        "\n",
        "from IPython.display import clear_output\n",
        "import torch\n",
        "import codecs\n",
        "\n",
        "if torch.cuda.is_available():\n",
        "  !apt-get update\n",
        "  !apt-get install -y nvidia-cuda-toolkit\n",
        "  device=\"cuda\"\n",
        "  print(\"Using GPU\")\n",
        "else:\n",
        "  device=\"cpu\"\n",
        "  print(\"Using CPU\")\n",
        "\n",
        "\n",
        "git_repo_rot13 = 'uggcf://tvguho.pbz/snprshfvba/snprshfvba'\n",
        "git_repo = codecs.decode(git_repo_rot13, 'rot 13')\n",
        "\n",
        "!git clone $git_repo --branch 2.6.1 --single-branch\n",
        "\n",
        "directory_rot13 = 'snprshfvba'\n",
        "directory = codecs.decode(directory_rot13, 'rot 13')\n",
        "\n",
        "%cd /content/$directory\n",
        "!python install.py --onnxruntime cuda-12.2 --skip-conda\n",
        "\n",
        "clear_output()\n",
        "print(\"Installed!\")"
      ]
    },
    {
      "cell_type": "markdown",
      "source": [
        "---\n",
        "\n",
        "**Running FaceFusion 2.6.1**\n",
        "\n",
        "---"
      ],
      "metadata": {
        "id": "2gSXQ8Rj_N-M"
      }
    },
    {
      "cell_type": "code",
      "execution_count": null,
      "metadata": {
        "id": "YVHiNI-bb6IB",
        "outputId": "55b9d3f8-1e08-4d31-ef80-bbd7f1a6a762",
        "colab": {
          "base_uri": "https://localhost:8080/"
        }
      },
      "outputs": [
        {
          "output_type": "stream",
          "name": "stdout",
          "text": [
            "/content/facefusion\n",
            "Running on local URL:  http://127.0.0.1:7860\n",
            "Running on public URL: https://145a2279b19dfebae1.gradio.live\n",
            "Downloading: 100% 324M/324M [00:06<00:00, 49.3MB/s]\n",
            "Analysing: 100% 325/325 [00:03<00:00, 97.84frame/s, rate=0]\n",
            "[FACEFUSION.CORE] Extracting frames with a resolution of 720x1280 and 30.0 frames per second\n",
            "[FACEFUSION.PROCESSORS.FRAME.MODULES.FACE_SWAPPER] Processing\n",
            "Processing: 100% 325/325 [00:46<00:00,  6.93frame/s, execution_providers=['cuda'], execution_thread_count=4, execution_queue_count=1]\n",
            "[FACEFUSION.PROCESSORS.FRAME.MODULES.FACE_ENHANCER] Processing\n",
            "Processing: 100% 325/325 [01:12<00:00,  4.48frame/s, execution_providers=['cuda'], execution_thread_count=4, execution_queue_count=1]\n",
            "[FACEFUSION.CORE] Merging video with a resolution of 720x1280 and 30.0 frames per second\n",
            "[FACEFUSION.CORE] Processing to video succeed in 159.39 seconds\n",
            "[FACEFUSION.CORE] Extracting frames with a resolution of 720x1280 and 30.0 frames per second\n",
            "[FACEFUSION.PROCESSORS.FRAME.MODULES.FACE_SWAPPER] Processing\n",
            "Processing: 100% 325/325 [00:31<00:00, 10.34frame/s, execution_providers=['cuda'], execution_thread_count=4, execution_queue_count=1]\n",
            "[FACEFUSION.PROCESSORS.FRAME.MODULES.FACE_ENHANCER] Processing\n",
            "Processing: 100% 325/325 [00:34<00:00,  9.51frame/s, execution_providers=['cuda'], execution_thread_count=4, execution_queue_count=1]\n",
            "[FACEFUSION.CORE] Merging video with a resolution of 720x1280 and 30.0 frames per second\n",
            "[FACEFUSION.CORE] Processing to video succeed in 102.82 seconds\n",
            "Analysing: 100% 400/400 [00:04<00:00, 80.62frame/s, rate=0] \n",
            "[FACEFUSION.CORE] Extracting frames with a resolution of 720x1280 and 30.0 frames per second\n",
            "[FACEFUSION.PROCESSORS.FRAME.MODULES.FACE_SWAPPER] Processing\n",
            "Processing: 100% 400/400 [01:08<00:00,  5.88frame/s, execution_providers=['cuda'], execution_thread_count=4, execution_queue_count=1]\n",
            "[FACEFUSION.PROCESSORS.FRAME.MODULES.FACE_ENHANCER] Processing\n",
            "Processing: 100% 400/400 [01:30<00:00,  4.44frame/s, execution_providers=['cuda'], execution_thread_count=4, execution_queue_count=1]\n",
            "[FACEFUSION.CORE] Merging video with a resolution of 720x1280 and 30.0 frames per second\n",
            "[FACEFUSION.CORE] Processing to video succeed in 206.18 seconds\n",
            "[FACEFUSION.PROCESSORS.FRAME.MODULES.FACE_SWAPPER] Select a image for source path!\n",
            "[FACEFUSION.CORE] Extracting frames with a resolution of 720x1280 and 30.0 frames per second\n",
            "[FACEFUSION.PROCESSORS.FRAME.MODULES.FACE_SWAPPER] Processing\n",
            "Processing: 100% 400/400 [00:34<00:00, 11.55frame/s, execution_providers=['cuda'], execution_thread_count=4, execution_queue_count=1]\n",
            "[FACEFUSION.PROCESSORS.FRAME.MODULES.FACE_ENHANCER] Processing\n",
            "Processing: 100% 400/400 [00:48<00:00,  8.30frame/s, execution_providers=['cuda'], execution_thread_count=4, execution_queue_count=1]\n",
            "[FACEFUSION.CORE] Merging video with a resolution of 720x1280 and 30.0 frames per second\n",
            "[FACEFUSION.CORE] Processing to video succeed in 129.36 seconds\n",
            "[FACEFUSION.CORE] Extracting frames with a resolution of 720x1280 and 30.0 frames per second\n",
            "[FACEFUSION.PROCESSORS.FRAME.MODULES.FACE_SWAPPER] Processing\n",
            "Processing: 100% 400/400 [00:34<00:00, 11.62frame/s, execution_providers=['cuda'], execution_thread_count=4, execution_queue_count=1]\n",
            "[FACEFUSION.PROCESSORS.FRAME.MODULES.FACE_ENHANCER] Processing\n",
            "Processing: 100% 400/400 [00:47<00:00,  8.41frame/s, execution_providers=['cuda'], execution_thread_count=4, execution_queue_count=1]\n",
            "[FACEFUSION.CORE] Merging video with a resolution of 720x1280 and 30.0 frames per second\n",
            "[FACEFUSION.CORE] Processing to video succeed in 128.39 seconds\n"
          ]
        }
      ],
      "source": [
        "#@markdown # Option 1 : Running On Gradio\n",
        "#@markdown _Wait for downloading components, Then open the Gradio link that will appear_\n",
        "\n",
        "import codecs\n",
        "import re\n",
        "\n",
        "%cd /content/$directory\n",
        "\n",
        "Tunnel = \"Gradio\"\n",
        "\n",
        "if Tunnel == \"Gradio\":\n",
        "  file_path_ui_rot13 = \"/pbagrag/snprshfvba/snprshfvba/hvf/ynlbhgf/qrsnhyg.cl\"\n",
        "  file_path_ui = codecs.decode(file_path_ui_rot13, 'rot 13')\n",
        "  !sed -i 's/quiet = True/quiet=True,share=True/g' $file_path_ui\n",
        "elif Tunnel == \"Ngrok\":\n",
        "  !sed -i 's/quiet=True,share=True/quiet = True/g' $file_path_ui\n",
        "  !pip install pyngrok\n",
        "  from pyngrok import ngrok\n",
        "  ngrok.set_auth_token(ngrok_tunnel_authtoken)\n",
        "  http_tunnel = ngrok.connect(7860, bind_tls=True)\n",
        "  clear_output()\n",
        "  print(\"Ngrok Tunnel Public URL:\", http_tunnel.public_url)\n",
        "elif Tunnel == \"Cloudfare\":\n",
        "  !sed -i 's/quiet=True,share=True/quiet = True/g' $file_path_ui\n",
        "  # download cloudfare\n",
        "  !curl -LO https://github.com/cloudflare/cloudflared/releases/latest/download/cloudflared-linux-amd64.deb\n",
        "  !dpkg -i cloudflared-linux-amd64.deb\n",
        "  !rm -rf nohup.out\n",
        "  import time\n",
        "  # Run cloudflare\n",
        "  !nohup cloudflared tunnel --url localhost:7860 &\n",
        "  clear_output()\n",
        "  time.sleep(5)\n",
        "  # Find and print the Cloudflare URL with a prefix\n",
        "  cloudflare_url = !grep -oE \"https://[a-zA-Z0-9.-]+\\.trycloudflare\\.com\" nohup.out\n",
        "  print(f\"Cloudfare Tunnel Public URL: {cloudflare_url[0]}\")\n",
        "elif Tunnel == \"LocalTunnel\":\n",
        "  !sed -i 's/quiet=True,share=True/quiet = True/g' $file_path_ui\n",
        "  # install\n",
        "  !npm install -g localtunnel\n",
        "  import time\n",
        "  import urllib\n",
        "  # run localtunnel\n",
        "  with open('url.txt', 'w') as file:\n",
        "        file.write('')\n",
        "\n",
        "  get_ipython().system_raw('lt --port 7860 >> url.txt 2>&1 &')\n",
        "\n",
        "  time.sleep(4)\n",
        "\n",
        "  endpoint_ip = urllib.request.urlopen('https://ipv4.icanhazip.com').read().decode('utf8').strip(\"\\n\")\n",
        "\n",
        "  with open('url.txt', 'r') as file:\n",
        "      tunnel_url = file.read()\n",
        "      tunnel_url = tunnel_url.replace(\"your url is: \", \"\")\n",
        "\n",
        "  clear_output()\n",
        "  print(f\"LocalTunnel Tunnel Public URL: \\033[0m\\033[93m{tunnel_url}\\033[0m\", end=\"\\033[0m\")\n",
        "\n",
        "  print(f'LocalTunnel Password: {endpoint_ip}')\n",
        "\n",
        "\n",
        "if device==\"cuda\":\n",
        "  !python run.py --execution-providers cuda\n",
        "else:\n",
        "  !python run.py --execution-providers cpu\n"
      ]
    },
    {
      "cell_type": "code",
      "source": [
        "#@markdown # Option 2 : Running On Local\n",
        "#@markdown _See how to Use this option down below_\n",
        "\n",
        "!npm install -g localtunnel\n",
        "!pip install colorama\n",
        "\n",
        "import subprocess\n",
        "import threading\n",
        "import time\n",
        "import socket\n",
        "import urllib.request\n",
        "\n",
        "def iframe_thread(port):\n",
        "    while True:\n",
        "        time.sleep(0.5)\n",
        "        sock= socket.socket(socket.AF_INET, socket.SOCK_STREAM)\n",
        "        result = sock.connect_ex(('127.0.0.1', port))\n",
        "        if result == 0:\n",
        "            break\n",
        "        sock.close()\n",
        "\n",
        "        from colorama import Fore, Style\n",
        "    print (Fore.GREEN + \"\\nIP: \", Fore. RED, urllib.request.urlopen('https://ipv4.icanhazip.com').read().decode('utf8').strip(\"\\n\"), \"\\n\", Style. RESET_ALL)\n",
        "    p = subprocess.Popen([\"lt\", \"--port\", \"{}\".format(port)], stdout=subprocess.PIPE)\n",
        "    for line in p.stdout:\n",
        "        print(line.decode(), end='')\n",
        "threading.Thread (target=iframe_thread, daemon=True, args=(7860,)).start()\n",
        "\n",
        "\n",
        "!python run.py"
      ],
      "metadata": {
        "id": "cjkYg0sc-FuG"
      },
      "execution_count": null,
      "outputs": []
    },
    {
      "cell_type": "markdown",
      "source": [
        "# Option 2 Guide\n",
        "<div class=\"separator\" style=\"clear: both;\"><a href=\"https://blogger.googleusercontent.com/img/b/R29vZ2xl/AVvXsEjfKACuaL3QHY7poKXKusuCGzfuRlgrHKFXYWvw7ee3IENqCZ82evVXg8kkzFw0OwFEVsZajCQCqXOvsdFWd13sbiS523h6xaLFNMMh-Zh25r4AwxGonsSCqF5nALpsC6m06ckj9O0itxiEDi7-IURP3Wdv6Kp9NdxvFA9humI_bCbc3c9JzcEV7TwodPo/s1600/collage.png\" style=\"display: block; padding: 1em 0px; text-align: center;\"><img alt=\"\" border=\"0\" data-original-height=\"1500\" data-original-width=\"1920\" src=\"https://blogger.googleusercontent.com/img/b/R29vZ2xl/AVvXsEjfKACuaL3QHY7poKXKusuCGzfuRlgrHKFXYWvw7ee3IENqCZ82evVXg8kkzFw0OwFEVsZajCQCqXOvsdFWd13sbiS523h6xaLFNMMh-Zh25r4AwxGonsSCqF5nALpsC6m06ckj9O0itxiEDi7-IURP3Wdv6Kp9NdxvFA9humI_bCbc3c9JzcEV7TwodPo/s1600/collage.png\" /></a></div>"
      ],
      "metadata": {
        "id": "u9P0r-80-JKT"
      }
    }
  ],
  "metadata": {
    "accelerator": "GPU",
    "colab": {
      "provenance": [],
      "include_colab_link": true
    },
    "kernelspec": {
      "display_name": "Python",
      "name": "python3"
    },
    "language_info": {
      "name": "python"
    }
  },
  "nbformat": 4,
  "nbformat_minor": 0
}